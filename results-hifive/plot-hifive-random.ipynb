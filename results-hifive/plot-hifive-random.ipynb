{
 "cells": [
  {
   "cell_type": "markdown",
   "id": "303815b1",
   "metadata": {},
   "source": [
    "# 检索与建索时间随维度变化绘图\n",
    "本 notebook 用于读取 results-*.csv 文件，分别绘制不同 workload 下维度与平均建索时间（单位：秒）和检索时间（单位：毫秒）的折线图。\n",
    "所有生成的图片将保存到 `plots/` 文件夹中。"
   ]
  },
  {
   "cell_type": "code",
   "execution_count": null,
   "id": "416cf8c6",
   "metadata": {},
   "outputs": [],
   "source": [
    "import os\n",
    "import glob\n",
    "import re\n",
    "import pandas as pd\n",
    "import matplotlib.pyplot as plt\n",
    "from matplotlib.font_manager import FontProperties\n",
    "from matplotlib.ticker import MaxNLocator\n"
   ]
  },
  {
   "cell_type": "code",
   "execution_count": null,
   "id": "47a46858",
   "metadata": {},
   "outputs": [],
   "source": [
    "# 定义输出目录\n",
    "output_dir = 'plots_output'\n"
   ]
  },
  {
   "cell_type": "markdown",
   "id": "22a35399",
   "metadata": {},
   "source": [
    "## 字体设置函数"
   ]
  },
  {
   "cell_type": "code",
   "execution_count": null,
   "id": "a7d6aa94",
   "metadata": {},
   "outputs": [],
   "source": [
    "def set_fonts():\n",
    "    font_ch = FontProperties(fname=\"/usr/share/fonts/SIMSUN.TTC\", size=12)\n",
    "    font_en = FontProperties(family=\"Times New Roman\", size=12)\n",
    "    return font_ch, font_en\n"
   ]
  },
  {
   "cell_type": "code",
   "execution_count": null,
   "id": "f126e005",
   "metadata": {},
   "outputs": [],
   "source": [
    "markers = [\n",
    "    \"o\",\n",
    "    \"D\",\n",
    "    \"s\",\n",
    "    \"^\",\n",
    "    \"v\",\n",
    "    \"<\",\n",
    "    \">\",\n",
    "    \"p\",\n",
    "    \"*\",\n",
    "    \"h\",\n",
    "    \"+\",\n",
    "    \"x\",\n",
    "    \"|\",\n",
    "    \"_\",\n",
    "]\n",
    "\n",
    "linestyles = [\n",
    "    \"--\",\n",
    "    \"-\",\n",
    "    \"-.\",\n",
    "    \":\",\n",
    "]\n"
   ]
  },
  {
   "cell_type": "markdown",
   "id": "81eb9528",
   "metadata": {},
   "source": [
    "## 建索时间随维度变化折线图（单位：秒）"
   ]
  },
  {
   "cell_type": "code",
   "execution_count": null,
   "id": "21556fbf",
   "metadata": {},
   "outputs": [],
   "source": [
    "def plot_index_time_vs_dim(csv_path, output_dir):\n",
    "    # 创建输出目录（如果不存在）\n",
    "    os.makedirs(output_dir, exist_ok=True)\n",
    "    \n",
    "    df = pd.read_csv(csv_path)\n",
    "    df = df[[\"workload_type\", \"dimension\", \"avg_index_time(ms)\"]]\n",
    "    df[\"dimension\"] = df[\"dimension\"].astype(int)\n",
    "    df[\"avg_index_time(s)\"] = df[\"avg_index_time(ms)\"] / 1000.0\n",
    "    zh_font, en_font = set_fonts()\n",
    "    plt.figure(figsize=(4, 3))\n",
    "    for i, (workload_type, group) in enumerate(df.groupby(\"workload_type\")):\n",
    "        group = group.sort_values(\"dimension\")\n",
    "        wt = workload_type.upper()\n",
    "        marker = markers[i % len(markers)]\n",
    "        linestyle = linestyles[i % len(linestyles)]\n",
    "        plt.plot(\n",
    "            group[\"dimension\"],\n",
    "            group[\"avg_index_time(s)\"],\n",
    "            marker=marker,\n",
    "            linestyle=linestyle,\n",
    "            label=wt,\n",
    "            linewidth=1,\n",
    "            markersize=3,\n",
    "        )\n",
    "    plt.xticks(fontproperties=en_font)\n",
    "    plt.yticks(fontproperties=en_font)\n",
    "    plt.xlabel(\"数据规模/向量维度\", fontproperties=zh_font)\n",
    "    plt.ylabel(\"建索引时间 (s)\", fontproperties=zh_font)\n",
    "    # plt.title(\"不同 workload 下建索引时间随维度变化\", fontproperties=zh_font)\n",
    "    plt.xscale(\"log\", base=2)\n",
    "    ax = plt.gca()\n",
    "    ax.yaxis.set_major_locator(MaxNLocator(integer=True)) \n",
    "    # plt.ylim(0, max(df[\"avg_index_time(s)\"]) * 1.1)\n",
    "    plt.legend(frameon=True, prop=en_font, loc=\"upper left\")\n",
    "    y_upper_limit = df[\"avg_index_time(s)\"].max() * 1.05\n",
    "    plt.ylim(0, y_upper_limit)\n",
    "    # plt.grid(True, linestyle=\"--\", alpha=0.5)\n",
    "    plt.grid(axis=\"y\", linestyle=\"--\", linewidth=0.5, color=\"gray\", alpha=0.6)\n",
    "    # plt.gca().set_axisbelow(True)\n",
    "    plt.tight_layout()\n",
    "    m = re.match(r\"results-(.+)\\.csv\", os.path.basename(csv_path))\n",
    "    suffix = m.group(1) if m else \"unknown\"\n",
    "    fig_name = os.path.join(output_dir, f\"index_time_vs_dim-{suffix}.pdf\")\n",
    "    plt.savefig(fig_name)\n",
    "    plt.close()\n",
    "    print(f\"Plot saved as {fig_name}\")\n"
   ]
  },
  {
   "cell_type": "markdown",
   "id": "31101f4f",
   "metadata": {},
   "source": [
    "## 检索时间随维度变化折线图（单位：毫秒）"
   ]
  },
  {
   "cell_type": "code",
   "execution_count": null,
   "id": "6332f4d8",
   "metadata": {},
   "outputs": [],
   "source": [
    "def plot_search_time_vs_dim(csv_path, output_dir):\n",
    "    os.makedirs(output_dir, exist_ok=True)\n",
    "    df = pd.read_csv(csv_path)\n",
    "    df = df[[\"workload_type\", \"dimension\", \"avg_search_time(ms)\"]]\n",
    "    df[\"dimension\"] = df[\"dimension\"].astype(int)\n",
    "    df[\"avg_avg_search_time(ms)\"] = df[\"avg_search_time(ms)\"] / 100.0\n",
    "    zh_font, en_font = set_fonts()\n",
    "    plt.figure(figsize=(4, 3))\n",
    "    for i, (workload_type, group) in enumerate(df.groupby(\"workload_type\")):\n",
    "        group = group.sort_values(\"dimension\")\n",
    "        wt = workload_type.upper()\n",
    "        marker = markers[i % len(markers)]\n",
    "        linestyle = linestyles[i % len(linestyles)]\n",
    "        plt.plot(\n",
    "            group[\"dimension\"],\n",
    "            group[\"avg_avg_search_time(ms)\"],\n",
    "            marker=marker,\n",
    "            linestyle=linestyle,\n",
    "            label=wt,\n",
    "            linewidth=1,\n",
    "            markersize=3\n",
    "        )\n",
    "    plt.xlabel(\"数据规模/向量维度\", fontproperties=zh_font)\n",
    "    plt.ylabel(\"平均检索时间 (ms)\", fontproperties=zh_font)\n",
    "    # plt.title(\"不同 workload 下检索时间随维度变化\", fontproperties=zh_font)\n",
    "    plt.xscale(\"log\", base=2)\n",
    "    # plt.ylim(bottom=0)\n",
    "    ax = plt.gca()\n",
    "    ax.yaxis.set_major_locator(MaxNLocator(integer=True)) \n",
    "    y_upper_limit = df[\"avg_avg_search_time(ms)\"] .max() * 1.05\n",
    "    plt.ylim(0, y_upper_limit)\n",
    "    plt.legend(frameon=True, prop=en_font, loc=\"upper left\")\n",
    "    plt.grid(axis=\"y\", linestyle=\"--\", linewidth=0.5, color=\"gray\", alpha=0.6)\n",
    "    plt.tight_layout()\n",
    "    m = re.match(r\"results-(.+)\\.csv\", os.path.basename(csv_path))\n",
    "    suffix = m.group(1) if m else \"unknown\"\n",
    "    fig_name = os.path.join(output_dir, f\"search_time_vs_dim-{suffix}.pdf\")\n",
    "    plt.savefig(fig_name)\n",
    "    plt.close()\n",
    "    print(f\"Plot saved as {fig_name}\")\n"
   ]
  },
  {
   "cell_type": "markdown",
   "id": "f9d6168c",
   "metadata": {},
   "source": [
    "## 查找并批量绘制所有 results-*.csv 文件"
   ]
  },
  {
   "cell_type": "code",
   "execution_count": null,
   "id": "db4a7f97",
   "metadata": {},
   "outputs": [],
   "source": [
    "csv_files = glob.glob(\"results-*.csv\")\n",
    "if not csv_files:\n",
    "    print(\"No results-*.csv file found.\")\n",
    "else:\n",
    "    for csv_path in csv_files:\n",
    "        plot_index_time_vs_dim(csv_path, output_dir)\n",
    "        plot_search_time_vs_dim(csv_path, output_dir)\n"
   ]
  }
 ],
 "metadata": {
  "kernelspec": {
   "display_name": "base",
   "language": "python",
   "name": "python3"
  },
  "language_info": {
   "codemirror_mode": {
    "name": "ipython",
    "version": 3
   },
   "file_extension": ".py",
   "mimetype": "text/x-python",
   "name": "python",
   "nbconvert_exporter": "python",
   "pygments_lexer": "ipython3",
   "version": "3.9.18"
  }
 },
 "nbformat": 4,
 "nbformat_minor": 5
}
