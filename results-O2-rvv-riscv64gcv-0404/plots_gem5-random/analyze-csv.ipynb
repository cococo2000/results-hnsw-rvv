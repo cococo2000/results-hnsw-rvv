{
 "cells": [
  {
   "cell_type": "markdown",
   "id": "492c1871",
   "metadata": {},
   "source": [
    "# 数据分析：不同 label 带来的性能提升\n",
    "本分析旨在比较 CSV 文件中 `label` 列的不同值（如 `RVV` 和 `RV`）在相同维度下的性能提升。"
   ]
  },
  {
   "cell_type": "code",
   "execution_count": 18,
   "id": "3d31feb4",
   "metadata": {},
   "outputs": [],
   "source": [
    "# 导入必要的库\n",
    "import pandas as pd\n"
   ]
  },
  {
   "cell_type": "code",
   "execution_count": 19,
   "id": "039086b3",
   "metadata": {},
   "outputs": [
    {
     "name": "stdout",
     "output_type": "stream",
     "text": [
      "加载文件: gem5-SimSecond_vs_vlen_dim3072_topk100.csv\n",
      "   vlen  SimSecond label\n",
      "0   128   1.879889   RVV\n",
      "1   256   1.418192   RVV\n",
      "2   512   1.234390   RVV\n",
      "3  1024   1.182808   RVV\n",
      "4   128   2.295064    RV\n"
     ]
    }
   ],
   "source": [
    "# 读取 CSV 文件\n",
    "file_path = \"gem5-SimSecond_vs_vlen_dim3072_topk100.csv\"\n",
    "df = pd.read_csv(file_path)\n",
    "print(f\"加载文件: {file_path}\")\n",
    "print(df.head())\n"
   ]
  },
  {
   "cell_type": "code",
   "execution_count": 20,
   "id": "dcae1804",
   "metadata": {},
   "outputs": [],
   "source": [
    "# 定义一个函数来计算加速比 (基线时间 / RVV 时间)\n",
    "def calculate_speedup(df, vlen_val, base_label, rvv_label):\n",
    "    base_time = df[(df['vlen'] == vlen_val) & (df['label'] == base_label)]['SimSecond'].iloc[0]\n",
    "    rvv_time = df[(df['vlen'] == vlen_val) & (df['label'] == rvv_label)]['SimSecond'].iloc[0]\n",
    "    if pd.notna(base_time) and pd.notna(rvv_time) and rvv_time != 0:\n",
    "        return base_time / rvv_time\n",
    "    return None\n"
   ]
  },
  {
   "cell_type": "code",
   "execution_count": 21,
   "id": "3dbb6901",
   "metadata": {},
   "outputs": [
    {
     "name": "stdout",
     "output_type": "stream",
     "text": [
      "RVV 加速比 (基线时间 / RVV 时间):\n",
      "VLEN              128       256       512       1024\n",
      "基线配置          1.220851  1.050160  0.996041  0.997049\n",
      "L1D 容量 x2     1.226014  1.053510  1.002174  0.996880\n",
      "L1D/L2 延迟 /2  1.260530  1.086753  0.999388  0.997690\n"
     ]
    }
   ],
   "source": [
    "# 计算不同配置和 VLEN 下的加速比\n",
    "vl_values = [128, 256, 512, 1024]\n",
    "results = {\n",
    "    'VLEN': vl_values,\n",
    "    '基线配置': [],\n",
    "    'L1D 容量 x2': [],\n",
    "    'L1D/L2 延迟 /2': []\n",
    "}\n",
    "\n",
    "for vlen in vl_values:\n",
    "    # 基线配置\n",
    "    results['基线配置'].append(calculate_speedup(df, vlen, 'RV', 'RVV'))\n",
    "    # L1D 容量 x2\n",
    "    results['L1D 容量 x2'].append(calculate_speedup(df, vlen, 'RV-L1D64KB', 'RVV-L1D64KB'))\n",
    "    # L1D/L2 延迟 /2\n",
    "    results['L1D/L2 延迟 /2'].append(calculate_speedup(df, vlen, 'RV-Latency/2', 'RVV-Latency/2'))\n",
    "\n",
    "speedup_df = pd.DataFrame(results)\n",
    "speedup_df = speedup_df.set_index('VLEN').T # 转置以匹配表格格式\n",
    "\n",
    "print(\"RVV 加速比 (基线时间 / RVV 时间):\")\n",
    "print(speedup_df)\n"
   ]
  },
  {
   "cell_type": "markdown",
   "id": "dd0bf48c",
   "metadata": {},
   "source": [
    "## 结果解释\n",
    "\n",
    "下表显示了针对不同缓存配置和 VLEN 计算出的 RVV 加速比。加速比定义为相应配置下基线 RV 的执行时间除以 RVV 的执行时间。\n",
    "\n",
    "您可以直接使用下表中的值来填充 LaTeX 表格：\n",
    "\n",
    "- **基线配置** 行对应于 LaTeX 表格中的 `[基线, VLEN]` 值。\n",
    "- **L1D 容量 x2** 行对应于 LaTeX 表格中的 `[L1Dx2, VLEN]` 值。\n",
    "- **L1D/L2 延迟 /2** 行对应于 LaTeX 表格中的 `[延迟/2, VLEN]` 值。"
   ]
  },
  {
   "cell_type": "code",
   "execution_count": 23,
   "id": "181026a1",
   "metadata": {},
   "outputs": [
    {
     "name": "stdout",
     "output_type": "stream",
     "text": [
      "VLEN           128    256    512    1024\n",
      "基线配置          1.221  1.050  0.996  0.997\n",
      "L1D 容量 x2     1.226  1.054  1.002  0.997\n",
      "L1D/L2 延迟 /2  1.261  1.087  0.999  0.998\n"
     ]
    }
   ],
   "source": [
    "# 以更适合填充表格的格式显示\n",
    "print(speedup_df.round(3)) # 保留两位小数\n"
   ]
  },
  {
   "cell_type": "code",
   "execution_count": null,
   "id": "924515cb",
   "metadata": {},
   "outputs": [],
   "source": []
  }
 ],
 "metadata": {
  "kernelspec": {
   "display_name": "base",
   "language": "python",
   "name": "python3"
  },
  "language_info": {
   "codemirror_mode": {
    "name": "ipython",
    "version": 3
   },
   "file_extension": ".py",
   "mimetype": "text/x-python",
   "name": "python",
   "nbconvert_exporter": "python",
   "pygments_lexer": "ipython3",
   "version": "3.9.18"
  }
 },
 "nbformat": 4,
 "nbformat_minor": 5
}
